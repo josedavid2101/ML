{
 "cells": [
  {
   "cell_type": "markdown",
   "id": "79641c21",
   "metadata": {},
   "source": [
    "# Business Decision in Retail using A/B Testing"
   ]
  },
  {
   "cell_type": "markdown",
   "id": "d77c01f0-7348-49e3-90a1-5536f05d9246",
   "metadata": {},
   "source": [
    "## Problem Statement\n",
    "Client X wants to know if by putting up new displays for Brand Z’s candy, the consumer will purchase more of Brand Z’s candy leading to higher revenue\n",
    "\n",
    "Business goal: Increase total revenue for candy"
   ]
  },
  {
   "cell_type": "code",
   "execution_count": 10,
   "id": "79278212-4f34-47f5-b375-89154ae1e669",
   "metadata": {},
   "outputs": [],
   "source": [
    "# All the libralies used in this project\n",
    "\n",
    "import numpy as np\n",
    "import pandas as pd\n",
    "import matplotlib.pyplot as plt\n",
    "import seaborn as sns\n",
    "%matplotlib inline\n",
    "# Hypothesis Testing\n",
    "from scipy.stats import shapiro\n",
    "import scipy.stats as stats"
   ]
  },
  {
   "cell_type": "code",
   "execution_count": 2,
   "id": "47b5dd54-fab4-4bbd-a6f9-cf2e4ccf4d42",
   "metadata": {},
   "outputs": [],
   "source": [
    "# Load data\n",
    "\n",
    "transactions = pd.read_csv(\"transactions.csv\")\n",
    "ids_control = pd.read_csv(\"control_stores.csv\")\n",
    "ids_treatment = pd.read_csv(\"treatment_stores.csv\")\n",
    "products = pd.read_csv(\"products_of_interest.csv\")"
   ]
  },
  {
   "cell_type": "code",
   "execution_count": 3,
   "id": "e0d58fb7-a053-4fb9-ad78-a0aa3b5c5f10",
   "metadata": {},
   "outputs": [
    {
     "data": {
      "text/html": [
       "<div>\n",
       "<style scoped>\n",
       "    .dataframe tbody tr th:only-of-type {\n",
       "        vertical-align: middle;\n",
       "    }\n",
       "\n",
       "    .dataframe tbody tr th {\n",
       "        vertical-align: top;\n",
       "    }\n",
       "\n",
       "    .dataframe thead th {\n",
       "        text-align: right;\n",
       "    }\n",
       "</style>\n",
       "<table border=\"1\" class=\"dataframe\">\n",
       "  <thead>\n",
       "    <tr style=\"text-align: right;\">\n",
       "      <th></th>\n",
       "      <th>Unnamed: 0</th>\n",
       "      <th>date_week</th>\n",
       "      <th>store_id</th>\n",
       "      <th>product_id</th>\n",
       "      <th>currency_code</th>\n",
       "      <th>revenue</th>\n",
       "    </tr>\n",
       "  </thead>\n",
       "  <tbody>\n",
       "    <tr>\n",
       "      <th>0</th>\n",
       "      <td>0</td>\n",
       "      <td>2016-07-10 00:00:00.000000</td>\n",
       "      <td>526</td>\n",
       "      <td>31107</td>\n",
       "      <td>USD</td>\n",
       "      <td>3.32</td>\n",
       "    </tr>\n",
       "    <tr>\n",
       "      <th>1</th>\n",
       "      <td>1</td>\n",
       "      <td>2016-07-10 00:00:00.000000</td>\n",
       "      <td>526</td>\n",
       "      <td>30772</td>\n",
       "      <td>USD</td>\n",
       "      <td>1.99</td>\n",
       "    </tr>\n",
       "    <tr>\n",
       "      <th>2</th>\n",
       "      <td>2</td>\n",
       "      <td>2016-07-10 00:00:00.000000</td>\n",
       "      <td>526</td>\n",
       "      <td>30887</td>\n",
       "      <td>USD</td>\n",
       "      <td>5.32</td>\n",
       "    </tr>\n",
       "    <tr>\n",
       "      <th>3</th>\n",
       "      <td>3</td>\n",
       "      <td>2016-07-10 00:00:00.000000</td>\n",
       "      <td>526</td>\n",
       "      <td>31133</td>\n",
       "      <td>USD</td>\n",
       "      <td>6.98</td>\n",
       "    </tr>\n",
       "    <tr>\n",
       "      <th>4</th>\n",
       "      <td>4</td>\n",
       "      <td>2016-07-10 00:00:00.000000</td>\n",
       "      <td>526</td>\n",
       "      <td>31118</td>\n",
       "      <td>USD</td>\n",
       "      <td>1.99</td>\n",
       "    </tr>\n",
       "  </tbody>\n",
       "</table>\n",
       "</div>"
      ],
      "text/plain": [
       "   Unnamed: 0                   date_week  store_id  product_id currency_code  \\\n",
       "0           0  2016-07-10 00:00:00.000000       526       31107           USD   \n",
       "1           1  2016-07-10 00:00:00.000000       526       30772           USD   \n",
       "2           2  2016-07-10 00:00:00.000000       526       30887           USD   \n",
       "3           3  2016-07-10 00:00:00.000000       526       31133           USD   \n",
       "4           4  2016-07-10 00:00:00.000000       526       31118           USD   \n",
       "\n",
       "   revenue  \n",
       "0     3.32  \n",
       "1     1.99  \n",
       "2     5.32  \n",
       "3     6.98  \n",
       "4     1.99  "
      ]
     },
     "execution_count": 3,
     "metadata": {},
     "output_type": "execute_result"
    }
   ],
   "source": [
    "# Explore Data\n",
    "\n",
    "transactions.head()"
   ]
  },
  {
   "cell_type": "code",
   "execution_count": 4,
   "id": "03e6fa5d-b175-4806-bc72-a9078c7f8e8d",
   "metadata": {},
   "outputs": [],
   "source": [
    "#Functions definition\n",
    "\n",
    "def get_stores_revenue(week,transactions,sample): #it gets all revenue per store per week\n",
    "    \n",
    "    idx_week = transactions['date_week'] == week\n",
    "    i=0\n",
    "    store_rev_all = [0]*len(control)\n",
    "    for x in sample:\n",
    "        idx_sto = transactions['store_id']==x[0]\n",
    "        idx = idx_week & idx_sto\n",
    "        store_rev = transactions['revenue'].loc[idx].sum()\n",
    "        store_rev_all[i] = store_rev\n",
    "        i=i+1\n",
    "    return store_rev_all\n",
    "\n",
    "def tbl2array(head,ids): #converts table to numerical array\n",
    "    headers = np.array([head])  # get headers\n",
    "    values = ids.values  # numpy array of values\n",
    "    matrix = np.concatenate([headers, values])  # append to the final matrix\n",
    "    return matrix"
   ]
  },
  {
   "cell_type": "code",
   "execution_count": 5,
   "id": "9fc87570-5262-4eb5-96e0-93483949ecbe",
   "metadata": {},
   "outputs": [
    {
     "name": "stderr",
     "output_type": "stream",
     "text": [
      "C:\\Users\\josen\\AppData\\Local\\Temp\\ipykernel_21452\\1060180692.py:7: SettingWithCopyWarning: \n",
      "A value is trying to be set on a copy of a slice from a DataFrame.\n",
      "Try using .loc[row_indexer,col_indexer] = value instead\n",
      "\n",
      "See the caveats in the documentation: https://pandas.pydata.org/pandas-docs/stable/user_guide/indexing.html#returning-a-view-versus-a-copy\n",
      "  transactions_fil.revenue = abs(transactions_fil.revenue)\n"
     ]
    }
   ],
   "source": [
    "#Filter products of interest\n",
    "products_list = tbl2array([30898],products)\n",
    "idx_pro_int = np.isin(transactions.product_id, products_list)\n",
    "transactions_fil = transactions[idx_pro_int]\n",
    "\n",
    "#Fix negative values\n",
    "transactions_fil.revenue = abs(transactions_fil.revenue)"
   ]
  },
  {
   "cell_type": "markdown",
   "id": "321f760e-f7b1-47f6-998c-f59141756329",
   "metadata": {},
   "source": [
    "## Split & Define Control Group & Test Group"
   ]
  },
  {
   "cell_type": "code",
   "execution_count": 6,
   "id": "b040f648-140e-40e9-b0f8-802b0da66990",
   "metadata": {},
   "outputs": [],
   "source": [
    "#Get control and treat store ids\n",
    "control = tbl2array([384],ids_control)\n",
    "treat = tbl2array([457],ids_control)"
   ]
  },
  {
   "cell_type": "code",
   "execution_count": 7,
   "id": "92f2fdde-ccba-415d-ba16-a259533e75ee",
   "metadata": {},
   "outputs": [],
   "source": [
    "#define selected weeks\n",
    "week1='2016-11-27 00:00:00.000000'\n",
    "week2='2016-12-04 00:00:00.000000'"
   ]
  },
  {
   "cell_type": "code",
   "execution_count": 8,
   "id": "2616bb3c-57b7-4c45-b14f-7c9511ca4d7f",
   "metadata": {},
   "outputs": [],
   "source": [
    "#Get stores mean revenue per week\n",
    "rev_control_week1 = get_stores_revenue(week1,transactions_fil,control)\n",
    "rev_control_week2 = get_stores_revenue(week2,transactions_fil,control)\n",
    "rev_control = [(x + y)/2 for x, y in zip(rev_control_week1, rev_control_week2)]\n",
    "\n",
    "rev_treat_week1 = get_stores_revenue(week1,transactions_fil,treat)\n",
    "rev_treat_week2 = get_stores_revenue(week2,transactions_fil,treat)\n",
    "rev_treat = [(x + y)/2 for x, y in zip(rev_treat_week1, rev_treat_week2)]"
   ]
  },
  {
   "cell_type": "markdown",
   "id": "822a3962-4365-4eb8-b89f-85b1c671ddb7",
   "metadata": {},
   "source": [
    "## Apply Shapiro Test for normality\n",
    "\n",
    "If parametric apply Levene Test for homogeneity of variances<br>\n",
    "If Parametric + homogeneity of variances apply T-Test<br>\n",
    "If Parametric - homogeneity of variances apply Welch Test<br>\n",
    "If Non-parametric apply Mann Whitney U Test directly<br>"
   ]
  },
  {
   "cell_type": "code",
   "execution_count": null,
   "id": "118c72e7-8ebe-47d2-a276-59c03e2074cd",
   "metadata": {},
   "outputs": [],
   "source": []
  },
  {
   "cell_type": "code",
   "execution_count": 11,
   "id": "b581d8b8-aa68-4113-8ad7-141e190e1b50",
   "metadata": {},
   "outputs": [
    {
     "data": {
      "text/plain": [
       "Ttest_indResult(statistic=-0.08665119060506651, pvalue=0.9313092405895493)"
      ]
     },
     "execution_count": 11,
     "metadata": {},
     "output_type": "execute_result"
    }
   ],
   "source": [
    "#Perform t-test\n",
    "stats.ttest_ind(a=rev_control, b=rev_treat)"
   ]
  },
  {
   "cell_type": "code",
   "execution_count": null,
   "id": "f5ef2362-01a4-4586-a323-622f1d59c31a",
   "metadata": {},
   "outputs": [],
   "source": []
  }
 ],
 "metadata": {
  "kernelspec": {
   "display_name": "Python 3 (ipykernel)",
   "language": "python",
   "name": "python3"
  },
  "language_info": {
   "codemirror_mode": {
    "name": "ipython",
    "version": 3
   },
   "file_extension": ".py",
   "mimetype": "text/x-python",
   "name": "python",
   "nbconvert_exporter": "python",
   "pygments_lexer": "ipython3",
   "version": "3.9.12"
  }
 },
 "nbformat": 4,
 "nbformat_minor": 5
}
