{
 "cells": [
  {
   "cell_type": "markdown",
   "id": "b2490e96",
   "metadata": {},
   "source": [
    "# MarketDial Data Science Challenge"
   ]
  },
  {
   "cell_type": "code",
   "execution_count": 1,
   "id": "fbed09fe",
   "metadata": {},
   "outputs": [
    {
     "data": {
      "text/plain": [
       "'C:\\\\Users\\\\josen\\\\MarketDial_task'"
      ]
     },
     "execution_count": 1,
     "metadata": {},
     "output_type": "execute_result"
    }
   ],
   "source": [
    "pwd"
   ]
  },
  {
   "cell_type": "markdown",
   "id": "746bd921",
   "metadata": {},
   "source": [
    "## Question 3"
   ]
  },
  {
   "cell_type": "code",
   "execution_count": 195,
   "id": "bad2962d",
   "metadata": {},
   "outputs": [],
   "source": [
    "# Packages imports\n",
    "import numpy as np\n",
    "import pandas as pd\n",
    "import scipy.stats as stats"
   ]
  },
  {
   "cell_type": "code",
   "execution_count": 196,
   "id": "5895e444",
   "metadata": {},
   "outputs": [],
   "source": [
    "# Import data\n",
    "\n",
    "transactions = pd.read_csv(\"D:\\MarketDial\\marketdial_ds_takehome/transactions.csv\")\n",
    "ids_control = pd.read_csv(\"D:\\MarketDial\\marketdial_ds_takehome/q3_control_stores.csv\")\n",
    "ids_treatment = pd.read_csv(\"D:\\MarketDial\\marketdial_ds_takehome/q3_treatment_stores.csv\")\n",
    "products = pd.read_csv(\"D:\\MarketDial\\marketdial_ds_takehome/products_of_interest.csv\")\n"
   ]
  },
  {
   "cell_type": "code",
   "execution_count": 197,
   "id": "200b282f",
   "metadata": {},
   "outputs": [
    {
     "data": {
      "text/html": [
       "<div>\n",
       "<style scoped>\n",
       "    .dataframe tbody tr th:only-of-type {\n",
       "        vertical-align: middle;\n",
       "    }\n",
       "\n",
       "    .dataframe tbody tr th {\n",
       "        vertical-align: top;\n",
       "    }\n",
       "\n",
       "    .dataframe thead th {\n",
       "        text-align: right;\n",
       "    }\n",
       "</style>\n",
       "<table border=\"1\" class=\"dataframe\">\n",
       "  <thead>\n",
       "    <tr style=\"text-align: right;\">\n",
       "      <th></th>\n",
       "      <th>Unnamed: 0</th>\n",
       "      <th>date_week</th>\n",
       "      <th>store_id</th>\n",
       "      <th>product_id</th>\n",
       "      <th>currency_code</th>\n",
       "      <th>revenue</th>\n",
       "    </tr>\n",
       "  </thead>\n",
       "  <tbody>\n",
       "    <tr>\n",
       "      <th>0</th>\n",
       "      <td>0</td>\n",
       "      <td>2016-07-10 00:00:00.000000</td>\n",
       "      <td>526</td>\n",
       "      <td>31107</td>\n",
       "      <td>USD</td>\n",
       "      <td>3.32</td>\n",
       "    </tr>\n",
       "    <tr>\n",
       "      <th>1</th>\n",
       "      <td>1</td>\n",
       "      <td>2016-07-10 00:00:00.000000</td>\n",
       "      <td>526</td>\n",
       "      <td>30772</td>\n",
       "      <td>USD</td>\n",
       "      <td>1.99</td>\n",
       "    </tr>\n",
       "    <tr>\n",
       "      <th>2</th>\n",
       "      <td>2</td>\n",
       "      <td>2016-07-10 00:00:00.000000</td>\n",
       "      <td>526</td>\n",
       "      <td>30887</td>\n",
       "      <td>USD</td>\n",
       "      <td>5.32</td>\n",
       "    </tr>\n",
       "    <tr>\n",
       "      <th>3</th>\n",
       "      <td>3</td>\n",
       "      <td>2016-07-10 00:00:00.000000</td>\n",
       "      <td>526</td>\n",
       "      <td>31133</td>\n",
       "      <td>USD</td>\n",
       "      <td>6.98</td>\n",
       "    </tr>\n",
       "    <tr>\n",
       "      <th>4</th>\n",
       "      <td>4</td>\n",
       "      <td>2016-07-10 00:00:00.000000</td>\n",
       "      <td>526</td>\n",
       "      <td>31118</td>\n",
       "      <td>USD</td>\n",
       "      <td>1.99</td>\n",
       "    </tr>\n",
       "  </tbody>\n",
       "</table>\n",
       "</div>"
      ],
      "text/plain": [
       "   Unnamed: 0                   date_week  store_id  product_id currency_code  \\\n",
       "0           0  2016-07-10 00:00:00.000000       526       31107           USD   \n",
       "1           1  2016-07-10 00:00:00.000000       526       30772           USD   \n",
       "2           2  2016-07-10 00:00:00.000000       526       30887           USD   \n",
       "3           3  2016-07-10 00:00:00.000000       526       31133           USD   \n",
       "4           4  2016-07-10 00:00:00.000000       526       31118           USD   \n",
       "\n",
       "   revenue  \n",
       "0     3.32  \n",
       "1     1.99  \n",
       "2     5.32  \n",
       "3     6.98  \n",
       "4     1.99  "
      ]
     },
     "execution_count": 197,
     "metadata": {},
     "output_type": "execute_result"
    }
   ],
   "source": [
    "# Visualize data\n",
    "transactions.head()"
   ]
  },
  {
   "cell_type": "code",
   "execution_count": 198,
   "id": "f4285950",
   "metadata": {},
   "outputs": [],
   "source": [
    "#Functions definition\n",
    "\n",
    "def get_stores_revenue(week,transactions,sample): #it gets all revenue per store per week\n",
    "    \n",
    "    idx_week = transactions['date_week'] == week\n",
    "    i=0\n",
    "    store_rev_all = [0]*len(control)\n",
    "    for x in sample:\n",
    "        idx_sto = transactions['store_id']==x[0]\n",
    "        idx = idx_week & idx_sto\n",
    "        store_rev = transactions['revenue'].loc[idx].sum()\n",
    "        store_rev_all[i] = store_rev\n",
    "        i=i+1\n",
    "    return store_rev_all\n",
    "\n",
    "def tbl2array(head,ids): #converts table to numerical array\n",
    "    headers = np.array([head])  # get headers\n",
    "    values = ids.values  # numpy array of values\n",
    "    matrix = np.concatenate([headers, values])  # append to the final matrix\n",
    "    return matrix\n"
   ]
  },
  {
   "cell_type": "code",
   "execution_count": 204,
   "id": "1c562eb7",
   "metadata": {},
   "outputs": [
    {
     "name": "stderr",
     "output_type": "stream",
     "text": [
      "C:\\Users\\josen\\AppData\\Local\\Temp\\ipykernel_17404\\1060180692.py:7: SettingWithCopyWarning: \n",
      "A value is trying to be set on a copy of a slice from a DataFrame.\n",
      "Try using .loc[row_indexer,col_indexer] = value instead\n",
      "\n",
      "See the caveats in the documentation: https://pandas.pydata.org/pandas-docs/stable/user_guide/indexing.html#returning-a-view-versus-a-copy\n",
      "  transactions_fil.revenue = abs(transactions_fil.revenue)\n"
     ]
    }
   ],
   "source": [
    "#Filter products of interest\n",
    "products_list = tbl2array([30898],products)\n",
    "idx_pro_int = np.isin(transactions.product_id, products_list)\n",
    "transactions_fil = transactions[idx_pro_int]\n",
    "\n",
    "#Fix negative values\n",
    "transactions_fil.revenue = abs(transactions_fil.revenue)"
   ]
  },
  {
   "cell_type": "code",
   "execution_count": 200,
   "id": "6e6a1924",
   "metadata": {},
   "outputs": [],
   "source": [
    "#Get control and treat store ids\n",
    "control = tbl2array([384],ids_control)\n",
    "treat = tbl2array([457],ids_control)"
   ]
  },
  {
   "cell_type": "code",
   "execution_count": 201,
   "id": "f8294612",
   "metadata": {},
   "outputs": [],
   "source": [
    "#define selected weeks\n",
    "week1='2016-11-27 00:00:00.000000'\n",
    "week2='2016-12-04 00:00:00.000000'"
   ]
  },
  {
   "cell_type": "code",
   "execution_count": 202,
   "id": "6fc68fd2",
   "metadata": {},
   "outputs": [],
   "source": [
    "#Get stores mean revenue per week\n",
    "rev_control_week1 = get_stores_revenue(week1,transactions_fil,control)\n",
    "rev_control_week2 = get_stores_revenue(week2,transactions_fil,control)\n",
    "rev_control = [(x + y)/2 for x, y in zip(rev_control_week1, rev_control_week2)]\n",
    "\n",
    "rev_treat_week1 = get_stores_revenue(week1,transactions_fil,treat)\n",
    "rev_treat_week2 = get_stores_revenue(week2,transactions_fil,treat)\n",
    "rev_treat = [(x + y)/2 for x, y in zip(rev_treat_week1, rev_treat_week2)]\n"
   ]
  },
  {
   "cell_type": "code",
   "execution_count": 203,
   "id": "b484b24d",
   "metadata": {},
   "outputs": [
    {
     "data": {
      "text/plain": [
       "Ttest_indResult(statistic=-0.08665119060506651, pvalue=0.9313092405895493)"
      ]
     },
     "execution_count": 203,
     "metadata": {},
     "output_type": "execute_result"
    }
   ],
   "source": [
    "#Perform t-test\n",
    "stats.ttest_ind(a=rev_control, b=rev_treat)"
   ]
  },
  {
   "cell_type": "code",
   "execution_count": null,
   "id": "f6f69953",
   "metadata": {},
   "outputs": [],
   "source": []
  }
 ],
 "metadata": {
  "kernelspec": {
   "display_name": "Python 3 (ipykernel)",
   "language": "python",
   "name": "python3"
  },
  "language_info": {
   "codemirror_mode": {
    "name": "ipython",
    "version": 3
   },
   "file_extension": ".py",
   "mimetype": "text/x-python",
   "name": "python",
   "nbconvert_exporter": "python",
   "pygments_lexer": "ipython3",
   "version": "3.9.12"
  }
 },
 "nbformat": 4,
 "nbformat_minor": 5
}
